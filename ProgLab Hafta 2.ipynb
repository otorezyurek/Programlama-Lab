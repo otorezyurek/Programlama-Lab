{
 "cells": [
  {
   "cell_type": "code",
   "execution_count": null,
   "metadata": {},
   "outputs": [],
   "source": [
    "#Selection Sort#"
   ]
  },
  {
   "cell_type": "code",
   "execution_count": 27,
   "metadata": {},
   "outputs": [],
   "source": [
    "def SelectionSirala(dizi):\n",
    "    swapC=0\n",
    "    for i in range(len(dizi)-1,0,-1):\n",
    "        posofmax=0\n",
    "        for yer in range(1,i+1):\n",
    "            #print(\"j:\",yer,\"   i:\",i,end=\"\\n\")\n",
    "            if(dizi[yer]>dizi[posofmax]):\n",
    "                posofmax=yer\n",
    "        temp=dizi[yer]\n",
    "        dizi[yer]=dizi[posofmax]\n",
    "        dizi[posofmax]=temp\n",
    "        swapC=swapC+1\n",
    "    print(\"Swap Sayisi\",swapC)\n",
    "    \n",
    "    return"
   ]
  },
  {
   "cell_type": "code",
   "execution_count": 29,
   "metadata": {},
   "outputs": [
    {
     "name": "stdout",
     "output_type": "stream",
     "text": [
      "Swap Sayisi 9\n"
     ]
    },
    {
     "data": {
      "text/plain": [
       "[3, 9, 13, 21, 32, 41, 55, 60, 76, 99]"
      ]
     },
     "execution_count": 29,
     "metadata": {},
     "output_type": "execute_result"
    }
   ],
   "source": [
    "dizi1=[55,76,21,99,32,3,41,9,60,13]\n",
    "SelectionSirala(dizi1)\n",
    "dizi1"
   ]
  },
  {
   "cell_type": "code",
   "execution_count": null,
   "metadata": {},
   "outputs": [],
   "source": [
    "#Binary Search#"
   ]
  },
  {
   "cell_type": "code",
   "execution_count": 53,
   "metadata": {},
   "outputs": [],
   "source": [
    "def BinaryArama(siralidizi,item):\n",
    "    ilk=0\n",
    "    son=len(siralidizi)-1\n",
    "    found=False\n",
    "    adim=0\n",
    "    while ilk<=son and not found:\n",
    "        orta=(ilk+son)//2\n",
    "        #print(\"ilk - son: \",ilk,son)\n",
    "        #adim=adim+1\n",
    "        if(siralidizi[orta]==item):\n",
    "            found=True\n",
    "        else:\n",
    "            if(item<siralidizi[orta]):\n",
    "                son=orta-1\n",
    "            else:\n",
    "                ilk=orta+1\n",
    "    return found,orta,adim"
   ]
  },
  {
   "cell_type": "code",
   "execution_count": 54,
   "metadata": {},
   "outputs": [
    {
     "data": {
      "text/plain": [
       "(True, 5, 0)"
      ]
     },
     "execution_count": 54,
     "metadata": {},
     "output_type": "execute_result"
    }
   ],
   "source": [
    "BinaryArama(dizi1,41)"
   ]
  },
  {
   "cell_type": "code",
   "execution_count": null,
   "metadata": {},
   "outputs": [],
   "source": []
  }
 ],
 "metadata": {
  "kernelspec": {
   "display_name": "Python 3",
   "language": "python",
   "name": "python3"
  },
  "language_info": {
   "codemirror_mode": {
    "name": "ipython",
    "version": 3
   },
   "file_extension": ".py",
   "mimetype": "text/x-python",
   "name": "python",
   "nbconvert_exporter": "python",
   "pygments_lexer": "ipython3",
   "version": "3.7.1"
  }
 },
 "nbformat": 4,
 "nbformat_minor": 2
}
