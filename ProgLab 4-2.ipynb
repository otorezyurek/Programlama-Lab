{
 "cells": [
  {
   "cell_type": "code",
   "execution_count": 1,
   "metadata": {},
   "outputs": [],
   "source": [
    "#(2,2) matrisin determinantını bulmak#"
   ]
  },
  {
   "cell_type": "code",
   "execution_count": 42,
   "metadata": {},
   "outputs": [],
   "source": [
    "matrix1=[[1,2],[7,9]]\n",
    "matrix2=[[1,2,5],\n",
    "         [2,4,5],\n",
    "         [3,5,7]]"
   ]
  },
  {
   "cell_type": "code",
   "execution_count": 43,
   "metadata": {},
   "outputs": [],
   "source": [
    "def determinant_2by2(m1):\n",
    "    s1=m1[0][0]*m1[1][1]\n",
    "    s2=m1[0][1]*m1[1][0]\n",
    "    s3=s1-s2\n",
    "    return s3"
   ]
  },
  {
   "cell_type": "code",
   "execution_count": 44,
   "metadata": {},
   "outputs": [
    {
     "data": {
      "text/plain": [
       "-5"
      ]
     },
     "execution_count": 44,
     "metadata": {},
     "output_type": "execute_result"
    }
   ],
   "source": [
    "determinant_2by2(matrix1)"
   ]
  },
  {
   "cell_type": "code",
   "execution_count": 45,
   "metadata": {},
   "outputs": [],
   "source": [
    "def matristen_row_col_sil(m1,m,n):\n",
    "    result=[]\n",
    "    size1=(len(m1))\n",
    "    size2=(len(m1[0]))\n",
    "    \n",
    "    for i in range(size1):\n",
    "        if(i==m):\n",
    "            continue\n",
    "        row1=[]\n",
    "        for j in range(size2):\n",
    "            if(j==n):\n",
    "                continue\n",
    "            row1.append(m1[i][j])\n",
    "        result.append(row1)\n",
    "        \n",
    "    return result"
   ]
  },
  {
   "cell_type": "code",
   "execution_count": 46,
   "metadata": {},
   "outputs": [
    {
     "data": {
      "text/plain": [
       "[[2, 4], [3, 5]]"
      ]
     },
     "execution_count": 46,
     "metadata": {},
     "output_type": "execute_result"
    }
   ],
   "source": [
    "matristen_row_col_sil(matrix2,0,2)"
   ]
  },
  {
   "cell_type": "code",
   "execution_count": null,
   "metadata": {},
   "outputs": [],
   "source": [
    "#(3,3) matrisin determinantını bulmak#"
   ]
  },
  {
   "cell_type": "code",
   "execution_count": 47,
   "metadata": {},
   "outputs": [],
   "source": [
    "def determinant_3by3(m1):\n",
    "    a=m1[0][0]*determinant_2by2(matristen_row_col_sil(m1,0,0))\n",
    "    b=m1[0][1]*determinant_2by2(matristen_row_col_sil(m1,0,1))\n",
    "    c=m1[0][2]*determinant_2by2(matristen_row_col_sil(m1,0,2))\n",
    "    \n",
    "    return a-b+c"
   ]
  },
  {
   "cell_type": "code",
   "execution_count": 48,
   "metadata": {},
   "outputs": [
    {
     "data": {
      "text/plain": [
       "-5"
      ]
     },
     "execution_count": 48,
     "metadata": {},
     "output_type": "execute_result"
    }
   ],
   "source": [
    "determinant_3by3(matrix2)"
   ]
  },
  {
   "cell_type": "code",
   "execution_count": null,
   "metadata": {},
   "outputs": [],
   "source": []
  }
 ],
 "metadata": {
  "kernelspec": {
   "display_name": "Python 3",
   "language": "python",
   "name": "python3"
  },
  "language_info": {
   "codemirror_mode": {
    "name": "ipython",
    "version": 3
   },
   "file_extension": ".py",
   "mimetype": "text/x-python",
   "name": "python",
   "nbconvert_exporter": "python",
   "pygments_lexer": "ipython3",
   "version": "3.7.1"
  }
 },
 "nbformat": 4,
 "nbformat_minor": 2
}
