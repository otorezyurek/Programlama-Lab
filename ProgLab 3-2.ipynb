{
 "cells": [
  {
   "cell_type": "code",
   "execution_count": 1,
   "metadata": {},
   "outputs": [],
   "source": [
    "#Kendisine aktarılan bir listenin frekans tablosunu bulup return eden bir fonksiyon#"
   ]
  },
  {
   "cell_type": "code",
   "execution_count": 1,
   "metadata": {},
   "outputs": [],
   "source": [
    "liste=[10,50,30,10,20,40,50,60,50,60]"
   ]
  },
  {
   "cell_type": "code",
   "execution_count": 2,
   "metadata": {},
   "outputs": [],
   "source": [
    "#Dictionary ile#"
   ]
  },
  {
   "cell_type": "code",
   "execution_count": 3,
   "metadata": {},
   "outputs": [],
   "source": [
    "def FrekansDic(liste):\n",
    "    frekansdic={}\n",
    "    for sayi in liste:\n",
    "        if(sayi in frekansdic):\n",
    "            frekansdic[sayi]=frekansdic[sayi]+1\n",
    "        else:\n",
    "            frekansdic[sayi]=1\n",
    "    \n",
    "    return frekansdic"
   ]
  },
  {
   "cell_type": "code",
   "execution_count": 4,
   "metadata": {},
   "outputs": [
    {
     "data": {
      "text/plain": [
       "{10: 2, 50: 3, 30: 1, 20: 1, 40: 1, 60: 2}"
      ]
     },
     "execution_count": 4,
     "metadata": {},
     "output_type": "execute_result"
    }
   ],
   "source": [
    "FrekansDic(liste)"
   ]
  },
  {
   "cell_type": "code",
   "execution_count": 5,
   "metadata": {},
   "outputs": [],
   "source": [
    "#List ile#"
   ]
  },
  {
   "cell_type": "code",
   "execution_count": 6,
   "metadata": {},
   "outputs": [],
   "source": [
    "def FrekansList(liste):\n",
    "    frekanslist=[]\n",
    "    for i in range(len(liste)):\n",
    "        s=False\n",
    "        for j in range(len(frekanslist)):\n",
    "            if(liste[i]==frekanslist[j][0]):\n",
    "                frekanslist[j][1]=frekanslist[j][1]+1\n",
    "                s=True\n",
    "        if(s==False):\n",
    "             frekanslist.append([liste[i],1])\n",
    "            \n",
    "    return frekanslist"
   ]
  },
  {
   "cell_type": "code",
   "execution_count": 7,
   "metadata": {},
   "outputs": [
    {
     "data": {
      "text/plain": [
       "[[10, 2], [50, 3], [30, 1], [20, 1], [40, 1], [60, 2]]"
      ]
     },
     "execution_count": 7,
     "metadata": {},
     "output_type": "execute_result"
    }
   ],
   "source": [
    "FrekansList(liste)"
   ]
  }
 ],
 "metadata": {
  "kernelspec": {
   "display_name": "Python 3",
   "language": "python",
   "name": "python3"
  },
  "language_info": {
   "codemirror_mode": {
    "name": "ipython",
    "version": 3
   },
   "file_extension": ".py",
   "mimetype": "text/x-python",
   "name": "python",
   "nbconvert_exporter": "python",
   "pygments_lexer": "ipython3",
   "version": "3.7.1"
  }
 },
 "nbformat": 4,
 "nbformat_minor": 2
}
