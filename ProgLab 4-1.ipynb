{
 "cells": [
  {
   "cell_type": "code",
   "execution_count": 1,
   "metadata": {},
   "outputs": [],
   "source": [
    "#Matrislerde İşlemler#"
   ]
  },
  {
   "cell_type": "code",
   "execution_count": 93,
   "metadata": {},
   "outputs": [],
   "source": [
    "matrix_1 = [[6,2,4],[5,9,1]]\n",
    "matrix_2 = [[1,3,6],[5,1,2]]"
   ]
  },
  {
   "cell_type": "code",
   "execution_count": 94,
   "metadata": {},
   "outputs": [],
   "source": [
    "def matrislerde_toplama(m1,m2):\n",
    "    result=[]\n",
    "    for row in range(len(m1)):\n",
    "        result.append([])\n",
    "        for column in range(len(m1[0])):\n",
    "            #print(m1[row][column],end=\" \")\n",
    "            result[row].append(m1[row][column]+m2[row][column])\n",
    "        #print()\n",
    "    return result\n"
   ]
  },
  {
   "cell_type": "code",
   "execution_count": 95,
   "metadata": {},
   "outputs": [
    {
     "data": {
      "text/plain": [
       "[[7, 5, 10], [10, 10, 3]]"
      ]
     },
     "execution_count": 95,
     "metadata": {},
     "output_type": "execute_result"
    }
   ],
   "source": [
    "matrislerde_toplama(matrix_1,matrix_2)\n"
   ]
  },
  {
   "cell_type": "code",
   "execution_count": 96,
   "metadata": {},
   "outputs": [],
   "source": [
    "def matrislerde_cıkarma(m1,m2):\n",
    "    result=[]\n",
    "    for row in range(len(m1)):\n",
    "        result.append([])\n",
    "        for column in range(len(m1[0])):\n",
    "            result[row].append(m1[row][column]-m2[row][column])\n",
    "    return result"
   ]
  },
  {
   "cell_type": "code",
   "execution_count": 97,
   "metadata": {},
   "outputs": [
    {
     "data": {
      "text/plain": [
       "[[5, -1, -2], [0, 8, -1]]"
      ]
     },
     "execution_count": 97,
     "metadata": {},
     "output_type": "execute_result"
    }
   ],
   "source": [
    "matrislerde_cıkarma(matrix_1,matrix_2)"
   ]
  },
  {
   "cell_type": "code",
   "execution_count": 98,
   "metadata": {},
   "outputs": [],
   "source": [
    "def matris_skalar_product(alpha,m1):\n",
    "    result=[]\n",
    "    for row in range(len(m1)):\n",
    "        result.append([])\n",
    "        for column in range(len(m1[0])):\n",
    "            result[row].append(m1[row][column]*alpha)\n",
    "    return result"
   ]
  },
  {
   "cell_type": "code",
   "execution_count": 99,
   "metadata": {},
   "outputs": [
    {
     "data": {
      "text/plain": [
       "[[60, 20, 40], [50, 90, 10]]"
      ]
     },
     "execution_count": 99,
     "metadata": {},
     "output_type": "execute_result"
    }
   ],
   "source": [
    "alpha=10\n",
    "matris_skalar_product(alpha,matrix_1)"
   ]
  },
  {
   "cell_type": "code",
   "execution_count": 111,
   "metadata": {},
   "outputs": [],
   "source": [
    "def f1(matrix_1,i):\n",
    "    \n",
    "    return matrix_1[i]\n",
    "\n",
    "def f2(matrix_1,i):\n",
    "    i_col=[]\n",
    "    for row in matrix_1:\n",
    "        for indis in range(len(row)):\n",
    "            if(indis==i):\n",
    "                i_col.append(row[indis])\n",
    "    return i_col\n",
    "\n",
    "def vektor_ic_carpim(v,w):\n",
    "    size=len(v)\n",
    "    result=[]\n",
    "    for i in range(size):\n",
    "        result.append(0)\n",
    "    for i in range(size):\n",
    "        result[i]=v[i]*w[i]\n",
    "        \n",
    "    t=0\n",
    "    for i in range(size):\n",
    "        t=t+result[i]\n",
    "    return t"
   ]
  },
  {
   "cell_type": "code",
   "execution_count": 112,
   "metadata": {},
   "outputs": [],
   "source": [
    "def matris_carpim(m1,m2):\n",
    "    result=[]\n",
    "    for row in range(len(m1)):\n",
    "        result.append([])\n",
    "        for column in range(len(m2[0])):\n",
    "            \n",
    "            a=f1(m1,row)\n",
    "            b=f2(m2,column)\n",
    "            c=vektor_ic_carpim(a,b)\n",
    "            result[row].append(c)\n",
    "    return result"
   ]
  },
  {
   "cell_type": "code",
   "execution_count": 113,
   "metadata": {},
   "outputs": [],
   "source": [
    "matrix_3=[[1,4],[6,2]]\n",
    "matrix_4=[[5,3,9],[3,2,4]]"
   ]
  },
  {
   "cell_type": "code",
   "execution_count": 114,
   "metadata": {},
   "outputs": [
    {
     "data": {
      "text/plain": [
       "[[17, 11, 25], [36, 22, 62]]"
      ]
     },
     "execution_count": 114,
     "metadata": {},
     "output_type": "execute_result"
    }
   ],
   "source": [
    "matris_carpim(matrix_3,matrix_4)"
   ]
  },
  {
   "cell_type": "code",
   "execution_count": null,
   "metadata": {},
   "outputs": [],
   "source": []
  }
 ],
 "metadata": {
  "kernelspec": {
   "display_name": "Python 3",
   "language": "python",
   "name": "python3"
  },
  "language_info": {
   "codemirror_mode": {
    "name": "ipython",
    "version": 3
   },
   "file_extension": ".py",
   "mimetype": "text/x-python",
   "name": "python",
   "nbconvert_exporter": "python",
   "pygments_lexer": "ipython3",
   "version": "3.7.1"
  }
 },
 "nbformat": 4,
 "nbformat_minor": 2
}
